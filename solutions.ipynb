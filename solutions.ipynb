{
 "cells": [
  {
   "attachments": {},
   "cell_type": "markdown",
   "metadata": {},
   "source": [
    "## 1"
   ]
  },
  {
   "cell_type": "code",
   "execution_count": 10,
   "metadata": {},
   "outputs": [
    {
     "name": "stdout",
     "output_type": "stream",
     "text": [
      "guess = 2\n",
      "guess = 3\n",
      "guess = 4\n",
      "guess = 5\n",
      "Smallest divisor of 55 is 5\n",
      "Time taken:  2.3889734745025635 seconds\n"
     ]
    }
   ],
   "source": [
    "import time \n",
    "start = time.time() \n",
    "\n",
    "x = int(input(\"Enter an integer greater than 2: \"))\n",
    "smallest_divisor = None\n",
    "for guess in range(2, x):\n",
    "    print(\"guess =\", guess)\n",
    "    if x % guess == 0:\n",
    "        smallest_divisor = guess\n",
    "        break\n",
    "if smallest_divisor != None:\n",
    "    print(\"Smallest divisor of\", x, \"is\", smallest_divisor)\n",
    "else:\n",
    "    print(x, \"is a prime number\")\n",
    "\n",
    "\n",
    "end = time.time() \n",
    "print(\"Time taken: \", end - start, \"seconds\")\n"
   ]
  },
  {
   "attachments": {},
   "cell_type": "markdown",
   "metadata": {},
   "source": [
    "## 2"
   ]
  },
  {
   "cell_type": "code",
   "execution_count": 11,
   "metadata": {},
   "outputs": [
    {
     "name": "stdout",
     "output_type": "stream",
     "text": [
      "Largest divisor of 665 is 665\n"
     ]
    }
   ],
   "source": [
    "x = int(input(\"Enter an integer greater than 2: \"))\n",
    "largest_divisor = None\n",
    "for guess in range(2, x+1):\n",
    "    \n",
    "    if x % guess == 0:\n",
    "        largest_divisor = guess\n",
    "        \n",
    "if largest_divisor != None:\n",
    "    print(\"Largest divisor of\", x, \"is\", largest_divisor)\n",
    "else:\n",
    "    print(x, \"is a prime number\")\n",
    "\n",
    "\n"
   ]
  },
  {
   "attachments": {},
   "cell_type": "markdown",
   "metadata": {},
   "source": [
    "## 3"
   ]
  },
  {
   "cell_type": "code",
   "execution_count": 12,
   "metadata": {},
   "outputs": [
    {
     "name": "stdout",
     "output_type": "stream",
     "text": [
      "The sum of prime numbers between 2 and 1000 is: 76125\n"
     ]
    }
   ],
   "source": [
    "def is_prime(n):\n",
    "    if n < 2:\n",
    "        return False\n",
    "    if n == 2:\n",
    "        return True\n",
    "    \n",
    "    for divisor in range(3, int(n**0.5) + 1, 2):\n",
    "        if n % divisor == 0:\n",
    "            return False    \n",
    "    return True\n",
    "\n",
    "sum_of_primes = sum(filter(is_prime, range(3, 1000, 2)))\n",
    "print(\"The sum of prime numbers between 2 and 1000 is:\", sum_of_primes)\n"
   ]
  },
  {
   "attachments": {},
   "cell_type": "markdown",
   "metadata": {},
   "source": [
    "## 4"
   ]
  },
  {
   "cell_type": "code",
   "execution_count": 13,
   "metadata": {},
   "outputs": [
    {
     "name": "stdout",
     "output_type": "stream",
     "text": [
      "[1, 2, 3, 4, 5, 6]\n",
      "[7, 10, 15, 21, 26, 30]\n"
     ]
    },
    {
     "data": {
      "image/png": "[encoded data removed]",
      "text/plain": [
       "<Figure size 640x480 with 1 Axes>"
      ]
     },
     "metadata": {},
     "output_type": "display_data"
    }
   ],
   "source": [
    "\n",
    "import matplotlib.pyplot as plt\n",
    "\n",
    "x_values = [1, 2, 3, 4, 5, 6]\n",
    "y_values = [7, 10, 15, 21, 26, 30]\n",
    "\n",
    "print (x_values)\n",
    "print (y_values)\n",
    "\n",
    "\n",
    "plt.plot(x_values, y_values)\n",
    "\n",
    "plt.xlabel(\"Digits\")\n",
    "plt.ylabel(\"Guesses\")\n",
    "plt.title(\"Number of digits vs. Number of guesses for different numbers\")\n",
    "plt.show()\n",
    "\n"
   ]
  },
  {
   "cell_type": "code",
   "execution_count": null,
   "metadata": {},
   "outputs": [],
   "source": []
  },
  {
   "attachments": {},
   "cell_type": "markdown",
   "metadata": {},
   "source": [
    "## 5"
   ]
  },
  {
   "cell_type": "code",
   "execution_count": 14,
   "metadata": {},
   "outputs": [
    {
     "name": "stdout",
     "output_type": "stream",
     "text": [
      "The product of 54 and 43 is 2321.999999999999\n"
     ]
    }
   ],
   "source": [
    "import math\n",
    "\n",
    "def product(x, y):\n",
    "    log_product = math.log(x) + math.log(y)\n",
    "    return math.exp(log_product)\n",
    "\n",
    "\n",
    "x = int(input(\"Enter an integer: \"))\n",
    "y = int(input(\"Enter another integer: \"))\n",
    "z = product(x, y)\n",
    "print(\"The product of\", x, \"and\", y, \"is\", z)\n"
   ]
  },
  {
   "attachments": {},
   "cell_type": "markdown",
   "metadata": {},
   "source": [
    "## 6"
   ]
  },
  {
   "cell_type": "code",
   "execution_count": 15,
   "metadata": {},
   "outputs": [
    {
     "name": "stdout",
     "output_type": "stream",
     "text": [
      "The gain of 39 is 31.821292140529984 dB\n"
     ]
    }
   ],
   "source": [
    "import math\n",
    "\n",
    "def dB(gain):\n",
    "    dB_val = 20 * math.log10(gain)\n",
    "    return dB_val\n",
    "\n",
    "\n",
    "gain = 39\n",
    "dB_value = dB(gain)\n",
    "print(\"The gain of\", gain, \"is\", dB_value, \"dB\")\n"
   ]
  }
 ],
 "metadata": {
  "kernelspec": {
   "display_name": "base",
   "language": "python",
   "name": "python3"
  },
  "language_info": {
   "codemirror_mode": {
    "name": "ipython",
    "version": 3
   },
   "file_extension": ".py",
   "mimetype": "text/x-python",
   "name": "python",
   "nbconvert_exporter": "python",
   "pygments_lexer": "ipython3",
   "version": "3.10.9"
  },
  "orig_nbformat": 4
 },
 "nbformat": 4,
 "nbformat_minor": 2
}
